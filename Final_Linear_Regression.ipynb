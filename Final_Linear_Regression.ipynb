{
 "cells": [
  {
   "cell_type": "markdown",
   "metadata": {
    "id": "m9uL-Qfj-Ztm"
   },
   "source": [
    "# Linear Regression Model"
   ]
  },
  {
   "cell_type": "code",
   "execution_count": 28,
   "metadata": {
    "id": "yQ4idTup-Ztr"
   },
   "outputs": [],
   "source": [
    "import pandas as pd\n",
    "import numpy as np\n",
    "import matplotlib.pyplot as plt\n",
    "%matplotlib inline\n",
    "from datetime import datetime, timedelta\n",
    "import tensorflow as tf\n",
    "from tensorflow.python.framework import ops\n",
    "import math\n",
    "from sklearn.linear_model import LinearRegression\n",
    "from sklearn.metrics import mean_squared_error"
   ]
  },
  {
   "cell_type": "markdown",
   "metadata": {
    "id": "rAj1T4xp-Zts"
   },
   "source": [
    "## Loading Processed Data"
   ]
  },
  {
   "cell_type": "code",
   "execution_count": 29,
   "metadata": {},
   "outputs": [
    {
     "name": "stdout",
     "output_type": "stream",
     "text": [
      "C-RNN.ipynb                            X_test2.txt\n",
      "Data_Cleaning_and_Processing_my.ipynb  X_train1.txt\n",
      "Final_Linear_Regression.ipynb          X_train2.txt\n",
      "README.md                              X_val1.txt\n",
      "Report.pdf                             X_val2.txt\n",
      "Scrap Weather Data.ipynb               \u001b[34mdata\u001b[m\u001b[m/\n",
      "Simple Neural Network.ipynb            y_test.txt\n",
      "Weather_API_key.txt                    y_train.txt\n",
      "X_test1.txt                            y_val.txt\n"
     ]
    }
   ],
   "source": [
    "ls"
   ]
  },
  {
   "cell_type": "code",
   "execution_count": null,
   "metadata": {},
   "outputs": [],
   "source": []
  },
  {
   "cell_type": "code",
   "execution_count": 2,
   "metadata": {
    "colab": {
     "base_uri": "https://localhost:8080/"
    },
    "id": "4esJsC9w-iSu",
    "outputId": "ea4b53a8-7384-4b60-a157-73bfc49452b5"
   },
   "outputs": [
    {
     "name": "stdout",
     "output_type": "stream",
     "text": [
      "Mounted at /content/drive\n"
     ]
    }
   ],
   "source": [
    "from google.colab import drive\n",
    "drive.mount('/content/drive/MyDrive/project')"
   ]
  },
  {
   "cell_type": "code",
   "execution_count": 30,
   "metadata": {
    "id": "dr9su4_z-Ztt"
   },
   "outputs": [],
   "source": [
    "X_train1 = np.loadtxt('data/X_train1.txt', dtype=float)\n",
    "X_train2 = np.loadtxt('data/X_train2.txt', dtype=float)\n",
    "X_val1 = np.loadtxt('data/X_val1.txt', dtype=float)\n",
    "X_val2 = np.loadtxt('data/X_val2.txt', dtype=float)\n",
    "X_test1 = np.loadtxt('data/X_test1.txt', dtype=float)\n",
    "X_test2 = np.loadtxt('data/X_test2.txt', dtype=float)\n",
    "y_train = np.loadtxt(\"data/y_train.txt\", dtype=float)\n",
    "y_val = np.loadtxt(\"data/y_val.txt\", dtype=float)\n",
    "y_test = np.loadtxt(\"data/y_test.txt\", dtype=float)"
   ]
  },
  {
   "cell_type": "code",
   "execution_count": 31,
   "metadata": {
    "colab": {
     "base_uri": "https://localhost:8080/"
    },
    "id": "eCbbbe9I-Ztt",
    "outputId": "e60a6704-086b-4b32-aea3-17ac211cd3c3"
   },
   "outputs": [
    {
     "data": {
      "text/plain": [
       "((168, 36344), (1, 36344))"
      ]
     },
     "execution_count": 31,
     "metadata": {},
     "output_type": "execute_result"
    }
   ],
   "source": [
    "X_train1.T.shape, y_train[np.newaxis].shape"
   ]
  },
  {
   "cell_type": "code",
   "execution_count": 32,
   "metadata": {
    "colab": {
     "base_uri": "https://localhost:8080/"
    },
    "id": "8thEghGg-Ztt",
    "outputId": "fe011602-38f2-465f-c09c-80ca0d91c221"
   },
   "outputs": [
    {
     "data": {
      "text/plain": [
       "((193, 36344), (193, 10384), (1, 36344), (1, 10384))"
      ]
     },
     "execution_count": 32,
     "metadata": {},
     "output_type": "execute_result"
    }
   ],
   "source": [
    "X_train = np.concatenate((X_train1, X_train2), axis=1)\n",
    "X_val = np.concatenate((X_val1, X_val2), axis=1)\n",
    "\n",
    "X_train = X_train.T\n",
    "X_val = X_val.T\n",
    "\n",
    "y_train=y_train[np.newaxis]\n",
    "y_val=y_val[np.newaxis]\n",
    "\n",
    "X_train.shape, X_val.shape, y_train.shape, y_val.shape"
   ]
  },
  {
   "cell_type": "code",
   "execution_count": 33,
   "metadata": {
    "id": "ZEy3oitq-Ztu"
   },
   "outputs": [],
   "source": [
    "# Converting W to kW\n",
    "\n",
    "y_train/=1000\n",
    "y_test/=1000\n",
    "y_val/=1000"
   ]
  },
  {
   "cell_type": "markdown",
   "metadata": {
    "id": "FahiBPJf-Ztu"
   },
   "source": [
    "## Training and Predicting through Linear Regression Model"
   ]
  },
  {
   "cell_type": "code",
   "execution_count": 34,
   "metadata": {
    "colab": {
     "base_uri": "https://localhost:8080/"
    },
    "id": "TKyU8mPl-Ztu",
    "outputId": "d75c4868-6b23-43eb-eed4-a1dad647c8f3"
   },
   "outputs": [
    {
     "name": "stdout",
     "output_type": "stream",
     "text": [
      "MSE_train: 5.51509327963265\n",
      "r_2_train: 0.8930280687068383\n"
     ]
    }
   ],
   "source": [
    "reg = LinearRegression().fit(X_train.T, y_train.T)\n",
    "y_train_pred = reg.predict(X_train.T)\n",
    "mse_train = mean_squared_error(y_train.T, y_train_pred)\n",
    "r_2_train = reg.score(X_train.T, y_train.T)\n",
    "print('MSE_train:', mse_train)\n",
    "print('r_2_train:', r_2_train)"
   ]
  },
  {
   "cell_type": "code",
   "execution_count": 35,
   "metadata": {
    "colab": {
     "base_uri": "https://localhost:8080/"
    },
    "id": "e_pB0JVm-Ztv",
    "outputId": "d54fad62-1693-453d-ba6a-db4e9fc0020c"
   },
   "outputs": [
    {
     "name": "stdout",
     "output_type": "stream",
     "text": [
      "MSE_val: 5.688089698153863\n",
      "r_2_val: 0.8906083603805369\n"
     ]
    }
   ],
   "source": [
    "y_val_pred = reg.predict(X_val.T)\n",
    "mse_val = mean_squared_error(y_val.T, y_val_pred)\n",
    "r_2_val = reg.score(X_val.T, y_val.T)\n",
    "print('MSE_val:', mse_val)\n",
    "print('r_2_val:', r_2_val)"
   ]
  },
  {
   "cell_type": "code",
   "execution_count": 36,
   "metadata": {
    "colab": {
     "base_uri": "https://localhost:8080/"
    },
    "id": "PBNFeYCO-Ztv",
    "outputId": "64383f46-6eee-4ee3-e13b-5d5f2026f00d"
   },
   "outputs": [
    {
     "name": "stdout",
     "output_type": "stream",
     "text": [
      "MSE_test: 5.712271183826968\n",
      "r_2_test: 0.8914089403568339\n"
     ]
    }
   ],
   "source": [
    "X_test = np.concatenate((X_test1, X_test2), axis=1)\n",
    "y_test_pred = reg.predict(X_test)\n",
    "mse_test = mean_squared_error(y_test, y_test_pred)\n",
    "r_2_test = reg.score(X_test, y_test)\n",
    "print('MSE_test:', mse_test)\n",
    "print('r_2_test:', r_2_test)"
   ]
  },
  {
   "cell_type": "code",
   "execution_count": 37,
   "metadata": {
    "colab": {
     "base_uri": "https://localhost:8080/"
    },
    "id": "7-RnERuY-Ztv",
    "outputId": "34daf905-dc96-46e4-a2b1-560627c1ea33"
   },
   "outputs": [
    {
     "data": {
      "text/plain": [
       "(5.712271183826968, 5.688089698153863, 5.51509327963265)"
      ]
     },
     "execution_count": 37,
     "metadata": {},
     "output_type": "execute_result"
    }
   ],
   "source": [
    "mse_test, mse_val, mse_train"
   ]
  },
  {
   "cell_type": "code",
   "execution_count": 38,
   "metadata": {
    "colab": {
     "base_uri": "https://localhost:8080/",
     "height": 295
    },
    "id": "Iz6209tm-Ztv",
    "outputId": "32c0e1ec-7617-4ed6-dfca-8f7398f32b36"
   },
   "outputs": [
    {
     "data": {
      "image/png": "[encoded data removed]",
      "text/plain": [
       "<Figure size 432x288 with 1 Axes>"
      ]
     },
     "metadata": {
      "needs_background": "light"
     },
     "output_type": "display_data"
    }
   ],
   "source": [
    "def plot(x,y,x_label=None,y_label=None, title=None, style1=None, color1=None, label1=None, y2=None, label2=None, \\\n",
    "           style2=None, color2=None):\n",
    "    plt.title(title)\n",
    "    plt.xlabel(x_label)\n",
    "    plt.ylabel(y_label)\n",
    "    plot1 = plt.scatter(x, y, color=color1)\n",
    "    plot2, = plt.plot([(y_test).min(), (y_test).max()], [(y_test).min(), (y_test).max()], 'k--', lw=4)\n",
    "    plt.legend([plot1], [label1, label2])\n",
    "    plt.show()\n",
    "    \n",
    "plot(y_test, y_test_pred, 'Actual Load(kWh)', 'Predicted Load(kWh)',  'Linear Regression Model', \\\n",
    "       style1='.', color1='blue', label1='Predicted', y2=y_test, label2='Actual', \\\n",
    "       style2='--', color2='black')\n"
   ]
  },
  {
   "cell_type": "code",
   "execution_count": null,
   "metadata": {},
   "outputs": [],
   "source": []
  },
  {
   "cell_type": "code",
   "execution_count": null,
   "metadata": {},
   "outputs": [],
   "source": []
  }
 ],
 "metadata": {
  "colab": {
   "collapsed_sections": [],
   "name": "Linear Regression.ipynb",
   "provenance": [],
   "toc_visible": true
  },
  "kernelspec": {
   "display_name": "Python 3",
   "language": "python",
   "name": "python3"
  },
  "language_info": {
   "codemirror_mode": {
    "name": "ipython",
    "version": 3
   },
   "file_extension": ".py",
   "mimetype": "text/x-python",
   "name": "python",
   "nbconvert_exporter": "python",
   "pygments_lexer": "ipython3",
   "version": "3.9.4"
  }
 },
 "nbformat": 4,
 "nbformat_minor": 4
}
