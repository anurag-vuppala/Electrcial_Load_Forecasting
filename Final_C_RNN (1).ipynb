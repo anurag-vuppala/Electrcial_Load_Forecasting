{
  "nbformat": 4,
  "nbformat_minor": 0,
  "metadata": {
    "kernelspec": {
      "display_name": "Python 3",
      "language": "python",
      "name": "python3"
    },
    "language_info": {
      "codemirror_mode": {
        "name": "ipython",
        "version": 3
      },
      "file_extension": ".py",
      "mimetype": "text/x-python",
      "name": "python",
      "nbconvert_exporter": "python",
      "pygments_lexer": "ipython3",
      "version": "3.6.5"
    },
    "colab": {
      "name": "Final_C-RNN.ipynb",
      "provenance": [],
      "toc_visible": true
    },
    "accelerator": "TPU"
  },
  "cells": [
    {
      "cell_type": "code",
      "metadata": {
        "colab": {
          "base_uri": "https://localhost:8080/"
        },
        "id": "xBdKJz0YtuMA",
        "outputId": "dc2d2aa5-6ef7-490a-d2a3-b062db6790be"
      },
      "source": [
        "from google.colab import drive\n",
        "drive.mount('/content/drive')\n"
      ],
      "execution_count": null,
      "outputs": [
        {
          "output_type": "stream",
          "text": [
            "Drive already mounted at /content/drive; to attempt to forcibly remount, call drive.mount(\"/content/drive\", force_remount=True).\n"
          ],
          "name": "stdout"
        }
      ]
    },
    {
      "cell_type": "code",
      "metadata": {
        "id": "ybbGLxFBgE5Z"
      },
      "source": [
        "import pandas as pd\n",
        "import numpy as np\n",
        "import matplotlib.pyplot as plt\n",
        "%matplotlib inline\n",
        "from datetime import datetime, timedelta\n",
        "import tensorflow as tf\n",
        "import keras\n",
        "from keras.layers import Input\n",
        "from tensorflow.python.framework import ops\n",
        "import math\n",
        "from keras.callbacks import EarlyStopping\n",
        "from keras import optimizers"
      ],
      "execution_count": null,
      "outputs": []
    },
    {
      "cell_type": "markdown",
      "metadata": {
        "id": "_INIRCgkgE5c"
      },
      "source": [
        "## Loading Processed Data"
      ]
    },
    {
      "cell_type": "code",
      "metadata": {
        "id": "FgLxI_YhgE5d"
      },
      "source": [
        "X_train1 = np.loadtxt('/content/drive/MyDrive/project/data/X_train1.txt', dtype=float)\n",
        "X_train2 = np.loadtxt('/content/drive/MyDrive/project/data/X_train2.txt', dtype=float)\n",
        "X_val1 = np.loadtxt('/content/drive/MyDrive/project/data/X_val1.txt', dtype=float)\n",
        "X_val2 = np.loadtxt('/content/drive/MyDrive/project/data/X_val2.txt', dtype=float)\n",
        "X_test1 = np.loadtxt('/content/drive/MyDrive/project/data/X_test1.txt', dtype=float)\n",
        "X_test2 = np.loadtxt('/content/drive/MyDrive/project/data/X_test2.txt', dtype=float)\n",
        "y_train = np.loadtxt(\"/content/drive/MyDrive/project/data/y_train.txt\", dtype=float)\n",
        "y_val = np.loadtxt(\"/content/drive/MyDrive/project/data/y_val.txt\", dtype=float)\n",
        "y_test = np.loadtxt(\"/content/drive/MyDrive/project/data/y_test.txt\", dtype=float)\n",
        "\n",
        "# Converting Watts to kW\n",
        "y_train/=1000\n",
        "y_test/=1000\n",
        "y_val/=1000"
      ],
      "execution_count": null,
      "outputs": []
    },
    {
      "cell_type": "code",
      "metadata": {
        "id": "XV92sL1RzvkN"
      },
      "source": [
        ""
      ],
      "execution_count": null,
      "outputs": []
    },
    {
      "cell_type": "code",
      "metadata": {
        "colab": {
          "base_uri": "https://localhost:8080/"
        },
        "id": "rnmbVEaugE5d",
        "outputId": "859446c7-10e2-4fdc-9e65-c0526521819f"
      },
      "source": [
        "X_train1.T.shape, y_train[np.newaxis].shape"
      ],
      "execution_count": null,
      "outputs": [
        {
          "output_type": "execute_result",
          "data": {
            "text/plain": [
              "((168, 22223), (1, 22223))"
            ]
          },
          "metadata": {
            "tags": []
          },
          "execution_count": 6
        }
      ]
    },
    {
      "cell_type": "markdown",
      "metadata": {
        "id": "6TGG267SgE5e"
      },
      "source": [
        "## Creating the C-RNN Architecture"
      ]
    },
    {
      "cell_type": "code",
      "metadata": {
        "id": "Iw1MCR6YgE5e"
      },
      "source": [
        "X_input = Input([X_train1.shape[1],1])\n",
        "X_input_2 = Input([X_train2.shape[1],1])\n",
        "\n",
        "def create_model(X_input, X_input_2):\n",
        "    \n",
        "    X1 = keras.layers.Conv1D(kernel_size=(3), filters=64, activation='relu', name='Conv_1')(X_input)\n",
        "    X1 = keras.layers.MaxPooling1D(pool_size=2, name ='Pool_1')(X1)\n",
        "    X2 = keras.layers.Conv1D(kernel_size=(5), filters=64, activation='relu', name='Conv_2')(X_input)\n",
        "    X2 = keras.layers.MaxPooling1D(pool_size=2, name='Pool_2')(X2)\n",
        "    X3 = keras.layers.Conv1D(kernel_size=(7), filters=64, activation='relu', name='Conv_3')(X_input)\n",
        "    X3 = keras.layers.MaxPooling1D(pool_size=2, name='Pool_3')(X3)\n",
        "    X4 = keras.layers.Concatenate(axis=1, name='Concat_1')([X1,X2,X3])\n",
        "    X5 = keras.layers.LSTM(32, return_sequences=True, name='LSTM_1')(X4)\n",
        "    X6 = keras.layers.GlobalAveragePooling1D(name='Mean_1')(X5)\n",
        "    X7 = keras.layers.Flatten()(X_input_2)\n",
        "    X7 = keras.layers.Dense(32, name='Dense_1')(X7)\n",
        "    X8 = keras.layers.Concatenate(axis=1, name='Concat_2')([X6,X7])\n",
        "    X9 = keras.layers.Dense(16, name='Dense_2')(X8)\n",
        "    Pred = keras.layers.Dense(1, name='Dense_3')(X9)\n",
        "    \n",
        "    model = keras.models.Model(inputs=[X_input, X_input_2], outputs=Pred, name='C-RNN')\n",
        "\n",
        "    return model"
      ],
      "execution_count": null,
      "outputs": []
    },
    {
      "cell_type": "code",
      "metadata": {
        "id": "qzYdGX4OgE5f"
      },
      "source": [
        "model = create_model(X_input, X_input_2)"
      ],
      "execution_count": null,
      "outputs": []
    },
    {
      "cell_type": "code",
      "metadata": {
        "colab": {
          "base_uri": "https://localhost:8080/"
        },
        "id": "zvl6JD01gE5f",
        "outputId": "b94176cd-cf73-4c85-da7b-e55e705ea11b"
      },
      "source": [
        "model.summary()"
      ],
      "execution_count": null,
      "outputs": [
        {
          "output_type": "stream",
          "text": [
            "Model: \"C-RNN\"\n",
            "__________________________________________________________________________________________________\n",
            "Layer (type)                    Output Shape         Param #     Connected to                     \n",
            "==================================================================================================\n",
            "input_1 (InputLayer)            [(None, 168, 1)]     0                                            \n",
            "__________________________________________________________________________________________________\n",
            "Conv_1 (Conv1D)                 (None, 166, 64)      256         input_1[0][0]                    \n",
            "__________________________________________________________________________________________________\n",
            "Conv_2 (Conv1D)                 (None, 164, 64)      384         input_1[0][0]                    \n",
            "__________________________________________________________________________________________________\n",
            "Conv_3 (Conv1D)                 (None, 162, 64)      512         input_1[0][0]                    \n",
            "__________________________________________________________________________________________________\n",
            "Pool_1 (MaxPooling1D)           (None, 83, 64)       0           Conv_1[0][0]                     \n",
            "__________________________________________________________________________________________________\n",
            "Pool_2 (MaxPooling1D)           (None, 82, 64)       0           Conv_2[0][0]                     \n",
            "__________________________________________________________________________________________________\n",
            "Pool_3 (MaxPooling1D)           (None, 81, 64)       0           Conv_3[0][0]                     \n",
            "__________________________________________________________________________________________________\n",
            "Concat_1 (Concatenate)          (None, 246, 64)      0           Pool_1[0][0]                     \n",
            "                                                                 Pool_2[0][0]                     \n",
            "                                                                 Pool_3[0][0]                     \n",
            "__________________________________________________________________________________________________\n",
            "input_2 (InputLayer)            [(None, 25, 1)]      0                                            \n",
            "__________________________________________________________________________________________________\n",
            "LSTM_1 (LSTM)                   (None, 246, 32)      12416       Concat_1[0][0]                   \n",
            "__________________________________________________________________________________________________\n",
            "flatten (Flatten)               (None, 25)           0           input_2[0][0]                    \n",
            "__________________________________________________________________________________________________\n",
            "Mean_1 (GlobalAveragePooling1D) (None, 32)           0           LSTM_1[0][0]                     \n",
            "__________________________________________________________________________________________________\n",
            "Dense_1 (Dense)                 (None, 32)           832         flatten[0][0]                    \n",
            "__________________________________________________________________________________________________\n",
            "Concat_2 (Concatenate)          (None, 64)           0           Mean_1[0][0]                     \n",
            "                                                                 Dense_1[0][0]                    \n",
            "__________________________________________________________________________________________________\n",
            "Dense_2 (Dense)                 (None, 16)           1040        Concat_2[0][0]                   \n",
            "__________________________________________________________________________________________________\n",
            "Dense_3 (Dense)                 (None, 1)            17          Dense_2[0][0]                    \n",
            "==================================================================================================\n",
            "Total params: 15,457\n",
            "Trainable params: 15,457\n",
            "Non-trainable params: 0\n",
            "__________________________________________________________________________________________________\n"
          ],
          "name": "stdout"
        }
      ]
    },
    {
      "cell_type": "markdown",
      "metadata": {
        "id": "D8hEPPsqgE5f"
      },
      "source": [
        "## Training the Model"
      ]
    },
    {
      "cell_type": "code",
      "metadata": {
        "colab": {
          "base_uri": "https://localhost:8080/"
        },
        "id": "Gzt7QPt_gE5f",
        "outputId": "f76d93c7-1a3c-4f25-f08a-c777514cecca"
      },
      "source": [
        "adam = optimizers.Adam(lr=0.001)\n",
        "model.compile(optimizer=adam, loss='mse', metrics=['acc'])\n",
        "\n",
        "X_train1 = np.reshape(X_train1,[X_train1.shape[0], X_train1.shape[1],1])\n",
        "X_train2 = np.reshape(X_train2,[X_train2.shape[0], X_train2.shape[1],1])\n",
        "X_val1 = np.reshape(X_val1,[X_val1.shape[0], X_val1.shape[1],1])\n",
        "X_val2 = np.reshape(X_val2,[X_val2.shape[0], X_val2.shape[1],1])\n",
        "\n",
        "early_stopping_monitor = EarlyStopping(patience=3)\n",
        "a = model.fit([X_train1, X_train2], y_train, epochs=20, validation_data=([X_val1, X_val2], y_val), callbacks=[early_stopping_monitor])"
      ],
      "execution_count": null,
      "outputs": [
        {
          "output_type": "stream",
          "text": [
            "Epoch 1/20\n",
            "695/695 [==============================] - 91s 127ms/step - loss: 311.8107 - acc: 0.0000e+00 - val_loss: 25.5720 - val_acc: 0.0000e+00\n",
            "Epoch 2/20\n",
            "695/695 [==============================] - 88s 127ms/step - loss: 17.7076 - acc: 0.0000e+00 - val_loss: 8.7976 - val_acc: 0.0000e+00\n",
            "Epoch 3/20\n",
            "695/695 [==============================] - 88s 127ms/step - loss: 8.8320 - acc: 0.0000e+00 - val_loss: 9.0246 - val_acc: 0.0000e+00\n",
            "Epoch 4/20\n",
            "695/695 [==============================] - 88s 127ms/step - loss: 8.6290 - acc: 0.0000e+00 - val_loss: 8.6124 - val_acc: 0.0000e+00\n",
            "Epoch 5/20\n",
            "695/695 [==============================] - 88s 127ms/step - loss: 8.0367 - acc: 0.0000e+00 - val_loss: 8.2844 - val_acc: 0.0000e+00\n",
            "Epoch 6/20\n",
            "695/695 [==============================] - 88s 127ms/step - loss: 7.6338 - acc: 0.0000e+00 - val_loss: 7.0497 - val_acc: 0.0000e+00\n",
            "Epoch 7/20\n",
            "695/695 [==============================] - 88s 126ms/step - loss: 7.3014 - acc: 0.0000e+00 - val_loss: 7.3092 - val_acc: 0.0000e+00\n",
            "Epoch 8/20\n",
            "695/695 [==============================] - 88s 127ms/step - loss: 7.3189 - acc: 0.0000e+00 - val_loss: 8.5793 - val_acc: 0.0000e+00\n",
            "Epoch 9/20\n",
            "695/695 [==============================] - 88s 127ms/step - loss: 7.1161 - acc: 0.0000e+00 - val_loss: 7.0605 - val_acc: 0.0000e+00\n"
          ],
          "name": "stdout"
        }
      ]
    },
    {
      "cell_type": "markdown",
      "metadata": {
        "id": "mY98PMw_gE5g"
      },
      "source": [
        "## Saving the Trained Model"
      ]
    },
    {
      "cell_type": "code",
      "metadata": {
        "id": "i5-kaQvX35Nj"
      },
      "source": [
        ""
      ],
      "execution_count": null,
      "outputs": []
    },
    {
      "cell_type": "code",
      "metadata": {
        "id": "JeI0oMImgE5g"
      },
      "source": [
        "try:\n",
        "    from tensorflow.python.keras.models import load_model\n",
        "\n",
        "    model.save('model.h5')\n",
        "\n",
        "    \n",
        "    new_model = load_model('model.h5')\n",
        "except:\n",
        "    pass\n",
        "\n",
        "X_test1 = np.reshape(X_test1,[X_test1.shape[0], X_test1.shape[1],1])\n",
        "X_test2 = np.reshape(X_test2,[X_test2.shape[0], X_test2.shape[1],1])"
      ],
      "execution_count": null,
      "outputs": []
    },
    {
      "cell_type": "markdown",
      "metadata": {
        "id": "rFMgWoxWgE5h"
      },
      "source": [
        "## Evaluating Model and Making Predictions"
      ]
    },
    {
      "cell_type": "code",
      "metadata": {
        "colab": {
          "base_uri": "https://localhost:8080/"
        },
        "id": "oMHTtRVsgE5h",
        "outputId": "8c2f7bc7-bb9c-448f-9ee8-c0f89d739b75"
      },
      "source": [
        "score_train = model.evaluate([X_train1, X_train2], y_train)\n",
        "print('MSE_train:', score_train[0])\n",
        "\n",
        "score_val = model.evaluate([X_val1, X_val2], y_val)\n",
        "print('MSE_val:', score_val[0])\n",
        "\n",
        "score_test = model.evaluate([X_test1, X_test2], y_test)\n",
        "print('MSE_test:', score_test[0])"
      ],
      "execution_count": null,
      "outputs": [
        {
          "output_type": "stream",
          "text": [
            "695/695 [==============================] - 19s 27ms/step - loss: 6.7983 - acc: 0.0000e+00\n",
            "MSE_train: 6.798252582550049\n",
            "199/199 [==============================] - 5s 27ms/step - loss: 7.0605 - acc: 0.0000e+00\n",
            "MSE_val: 7.060455322265625\n",
            "100/100 [==============================] - 3s 27ms/step - loss: 6.9331 - acc: 0.0000e+00\n",
            "MSE_test: 6.933051109313965\n"
          ],
          "name": "stdout"
        }
      ]
    },
    {
      "cell_type": "code",
      "metadata": {
        "id": "AUK-aOQQgE5h"
      },
      "source": [
        "pred_test = model.predict([X_test1, X_test2])\n",
        "pred_train = model.predict([X_train1, X_train2])\n",
        "pred_val = model.predict([X_val1, X_val2])"
      ],
      "execution_count": null,
      "outputs": []
    },
    {
      "cell_type": "markdown",
      "metadata": {
        "id": "1M1FYaengE5i"
      },
      "source": [
        "## Calculating $R^2$ Value"
      ]
    },
    {
      "cell_type": "code",
      "metadata": {
        "colab": {
          "base_uri": "https://localhost:8080/"
        },
        "id": "UWyfM0zlgE5i",
        "outputId": "0a80f0e2-bd24-4ca9-b21c-9dbb73fb51a0"
      },
      "source": [
        "len(score_test), len(X_test2)\n",
        "\n",
        "def calc_r_2(pred, y_test):\n",
        "    mse=0\n",
        "    for i in range(len(pred)):\n",
        "        mse+=(pred[i]-y_test[i])**2\n",
        "    mse/=len(pred)\n",
        "    # X_test1.shape\n",
        "    # pred[729], y_test[729]\n",
        "    mse = mse[0]\n",
        "    var_y = np.var(y_test)\n",
        "    return (1-(mse/var_y))\n",
        "\n",
        "print('train:', calc_r_2(pred_train, y_train))\n",
        "print('val:', calc_r_2(pred_val, y_val))\n",
        "print('test:', calc_r_2(pred_test, y_test))"
      ],
      "execution_count": 17,
      "outputs": [
        {
          "output_type": "stream",
          "text": [
            "train: 0.8650260565556267\n",
            "val: 0.8625624714181455\n",
            "test: 0.8648523655561974\n"
          ],
          "name": "stdout"
        }
      ]
    },
    {
      "cell_type": "markdown",
      "metadata": {
        "id": "VXQybbl_gE5i"
      },
      "source": [
        "## Plotting the $R^2$ Values"
      ]
    },
    {
      "cell_type": "code",
      "metadata": {
        "id": "AcR7TYT4gE5i",
        "colab": {
          "base_uri": "https://localhost:8080/",
          "height": 295
        },
        "outputId": "3f24a1cb-c5c2-44c0-8aae-af5ca3319af1"
      },
      "source": [
        "def plot(x,y,x_label=None,y_label=None, title=None, style1=None, color1=None, label1=None, y2=None, label2=None, \\\n",
        "           style2=None, color2=None):\n",
        "    plt.title(title)\n",
        "    plt.xlabel(x_label)\n",
        "    plt.ylabel(y_label)\n",
        "    plot1 = plt.scatter(x, y, color=color1)\n",
        "    plot2, = plt.plot([(y_test).min(), (y_test).max()], [(y_test).min(), (y_test).max()], 'k--', lw=4)\n",
        "    plt.legend([plot1], [label1, label2])\n",
        "    plt.show()\n",
        "    \n",
        "plot(y_test, pred_test, 'Actual Load (kWh)', 'Predicted Load (kWh)',  'C_RNN model', \\\n",
        "       style1='.', color1='blue', label1='Predicted', y2=y_test, label2='Actual', \\\n",
        "       style2='--', color2='black')\n"
      ],
      "execution_count": 18,
      "outputs": [
        {
          "output_type": "display_data",
          "data": {
            "image/png": "[encoded data removed]",
            "text/plain": [
              "<Figure size 432x288 with 1 Axes>"
            ]
          },
          "metadata": {
            "tags": [],
            "needs_background": "light"
          }
        }
      ]
    },
    {
      "cell_type": "code",
      "metadata": {
        "id": "0mfLFhvFgE5j"
      },
      "source": [
        ""
      ],
      "execution_count": null,
      "outputs": []
    }
  ]
}